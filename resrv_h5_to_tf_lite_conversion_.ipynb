{
  "nbformat": 4,
  "nbformat_minor": 0,
  "metadata": {
    "colab": {
      "provenance": [],
      "authorship_tag": "ABX9TyPqIU+1gMzIwesAuRYbfqne",
      "include_colab_link": true
    },
    "kernelspec": {
      "name": "python3",
      "display_name": "Python 3"
    },
    "language_info": {
      "name": "python"
    }
  },
  "cells": [
    {
      "cell_type": "markdown",
      "metadata": {
        "id": "view-in-github",
        "colab_type": "text"
      },
      "source": [
        "<a href=\"https://colab.research.google.com/github/RUZaman/colab/blob/main/resrv_h5_to_tf_lite_conversion_.ipynb\" target=\"_parent\"><img src=\"https://colab.research.google.com/assets/colab-badge.svg\" alt=\"Open In Colab\"/></a>"
      ]
    },
    {
      "cell_type": "code",
      "execution_count": null,
      "metadata": {
        "id": "-Xvd3TTOs4FG"
      },
      "outputs": [],
      "source": [
        "import tensorflow as tf\n",
        "from keras.models import model_from_json\n",
        "\n",
        "keras.backend.clear_session()\n",
        "\n",
        "# Model reconstruction from JSON file.\n",
        "with open('model.json', 'r') as f:\n",
        "    model = model_from_json(f.read())\n",
        "\n",
        "# Load weights from h5 file.\n",
        "model.load_weights('model.h5')\n",
        "\n",
        "# Print summary.\n",
        "model.summary()\n",
        "\n",
        "# Save model and weights in a h5 file, then load again using tf.keras.\n",
        "model.save('model_full.h5')\n",
        "model = tf.keras.models.load_model('model_full.h5', compile=False)\n",
        "\n",
        "# Converting a tf.Keras model to a TensorFlow Lite model.\n",
        "converter = tf.lite.TFLiteConverter.from_keras_model(model)\n",
        "tflite_model = converter.convert()\n",
        "\n",
        "# Save the TF Lite model.\n",
        "with tf.io.gfile.GFile('model.tflite', 'wb') as f:\n",
        "  f.write(tflite_model)"
      ]
    },
    {
      "cell_type": "markdown",
      "source": [
        "cod cpid"
      ],
      "metadata": {
        "id": "drw2zWL9tJjW"
      }
    }
  ]
}