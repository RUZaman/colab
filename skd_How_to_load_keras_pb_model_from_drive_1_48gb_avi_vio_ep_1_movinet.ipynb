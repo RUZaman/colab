{
  "cells": [
    {
      "cell_type": "markdown",
      "metadata": {
        "id": "view-in-github",
        "colab_type": "text"
      },
      "source": [
        "<a href=\"https://colab.research.google.com/github/RUZaman/colab/blob/main/skd_How_to_load_keras_pb_model_from_drive_1_48gb_avi_vio_ep_1_movinet.ipynb\" target=\"_parent\"><img src=\"https://colab.research.google.com/assets/colab-badge.svg\" alt=\"Open In Colab\"/></a>"
      ]
    },
    {
      "cell_type": "markdown",
      "source": [
        "data from kaggle https://www.kaggle.com/datasets/mohamedmustafa/real-life-violence-situations-dataset/code used here "
      ],
      "metadata": {
        "id": "YrFihvu9nqqf"
      }
    },
    {
      "cell_type": "markdown",
      "metadata": {
        "id": "EOgDUDMAG6mn"
      },
      "source": [
        "##### Copyright 2022 The TensorFlow Authors."
      ]
    },
    {
      "cell_type": "markdown",
      "source": [
        "https://www.tensorflow.org/tutorials/video/transfer_learning_with_movinet"
      ],
      "metadata": {
        "id": "Cfz5FzREnp5f"
      }
    },
    {
      "cell_type": "code",
      "execution_count": null,
      "metadata": {
        "id": "B3PsBDmGG_W8",
        "cellView": "form"
      },
      "outputs": [],
      "source": [
        "#@title Licensed under the Apache License, Version 2.0 (the \"License\");\n",
        "# you may not use this file except in compliance with the License.\n",
        "# You may obtain a copy of the License at\n",
        "#\n",
        "# https://www.apache.org/licenses/LICENSE-2.0\n",
        "#\n",
        "# Unless required by applicable law or agreed to in writing, software\n",
        "# distributed under the License is distributed on an \"AS IS\" BASIS,\n",
        "# WITHOUT WARRANTIES OR CONDITIONS OF ANY KIND, either express or implied.\n",
        "# See the License for the specific language governing permissions and\n",
        "# limitations under the License."
      ]
    },
    {
      "cell_type": "code",
      "source": [
        "pip install pyyaml h5py  # Required to save models in HDF5 format\n"
      ],
      "metadata": {
        "id": "XMtM0UYxnOB_",
        "colab": {
          "base_uri": "https://localhost:8080/"
        },
        "outputId": "65152563-02b3-448f-e1ed-28048ce425d5"
      },
      "execution_count": 1,
      "outputs": [
        {
          "output_type": "stream",
          "name": "stdout",
          "text": [
            "Looking in indexes: https://pypi.org/simple, https://us-python.pkg.dev/colab-wheels/public/simple/\n",
            "Requirement already satisfied: pyyaml in /usr/local/lib/python3.8/dist-packages (6.0)\n",
            "Requirement already satisfied: h5py in /usr/local/lib/python3.8/dist-packages (3.1.0)\n",
            "Requirement already satisfied: numpy>=1.17.5 in /usr/local/lib/python3.8/dist-packages (from h5py) (1.21.6)\n"
          ]
        }
      ]
    },
    {
      "cell_type": "code",
      "source": [
        "from google.colab import drive\n",
        "drive.mount('/gdrive')"
      ],
      "metadata": {
        "colab": {
          "base_uri": "https://localhost:8080/"
        },
        "id": "SegLDVconTb3",
        "outputId": "6bd92558-a6a6-4ce5-82d8-86b6aff9d951"
      },
      "execution_count": 2,
      "outputs": [
        {
          "output_type": "stream",
          "name": "stdout",
          "text": [
            "Mounted at /gdrive\n"
          ]
        }
      ]
    },
    {
      "cell_type": "code",
      "source": [
        "with open('/gdrive/My Drive/foo.txt', 'w') as f:\n",
        "  f.write('Hello Google Drive!')\n",
        "!cat '/gdrive/My Drive/foo.txt'"
      ],
      "metadata": {
        "colab": {
          "base_uri": "https://localhost:8080/"
        },
        "id": "hfb8wgYNnTb7",
        "outputId": "04a7bb91-33f8-45a0-ce87-d449f1267235"
      },
      "execution_count": 3,
      "outputs": [
        {
          "output_type": "stream",
          "name": "stdout",
          "text": [
            "Hello Google Drive!"
          ]
        }
      ]
    },
    {
      "cell_type": "markdown",
      "metadata": {
        "id": "ifkGYxdCHIof"
      },
      "source": [
        "<table class=\"tfo-notebook-buttons\" align=\"left\">\n",
        "  <td>\n",
        "    <a target=\"_blank\" href=\"https://www.tensorflow.org/tutorials/video/transfer_learning_with_movinet\"><img src=\"https://www.tensorflow.org/images/tf_logo_32px.png\" />View on TensorFlow.org</a>\n",
        "  </td>\n",
        "  <td>\n",
        "    <a target=\"_blank\" href=\"https://colab.research.google.com/github/tensorflow/docs/blob/master/site/en/tutorials/video/transfer_learning_with_movinet.ipynb\"><img src=\"https://www.tensorflow.org/images/colab_logo_32px.png\" />Run in Google Colab</a>\n",
        "  </td>\n",
        "  <td>\n",
        "    <a target=\"_blank\" href=\"https://github.com/tensorflow/docs/blob/master/site/en/tutorials/video/transfer_learning_with_movinet.ipynb\"><img src=\"https://www.tensorflow.org/images/GitHub-Mark-32px.png\" />View source on GitHub</a>\n",
        "  </td>\n",
        "  <td>\n",
        "    <a href=\"https://storage.googleapis.com/tensorflow_docs/docs/site/en/tutorials/video/transfer_learning_with_movinet.ipynb\"><img src=\"https://www.tensorflow.org/images/download_logo_32px.png\" />Download notebook</a>\n",
        "  </td>\n",
        "</table>"
      ]
    },
    {
      "cell_type": "code",
      "source": [
        "from google.colab import drive\n",
        "drive.mount('/content/drive')"
      ],
      "metadata": {
        "colab": {
          "base_uri": "https://localhost:8080/"
        },
        "id": "O1iXMLGan85W",
        "outputId": "0e84c54f-b0b5-41c6-a296-7e486f103b34"
      },
      "execution_count": 4,
      "outputs": [
        {
          "output_type": "stream",
          "name": "stdout",
          "text": [
            "Mounted at /content/drive\n"
          ]
        }
      ]
    },
    {
      "cell_type": "code",
      "source": [
        "!ls"
      ],
      "metadata": {
        "colab": {
          "base_uri": "https://localhost:8080/"
        },
        "id": "RC7HnKeNoNcb",
        "outputId": "88d6cec6-ddb6-4224-8ee4-099525568cc3"
      },
      "execution_count": 5,
      "outputs": [
        {
          "output_type": "stream",
          "name": "stdout",
          "text": [
            "drive  sample_data\n"
          ]
        }
      ]
    },
    {
      "cell_type": "code",
      "source": [
        "%cd /content/drive/MyDrive/movinet"
      ],
      "metadata": {
        "colab": {
          "base_uri": "https://localhost:8080/"
        },
        "id": "58-Ke9dkoR4k",
        "outputId": "1a0f08dd-ea07-48e9-8b4f-1fcaae0071d3"
      },
      "execution_count": 6,
      "outputs": [
        {
          "output_type": "stream",
          "name": "stdout",
          "text": [
            "/content/drive/MyDrive/movinet\n"
          ]
        }
      ]
    },
    {
      "cell_type": "code",
      "source": [
        "!pwd"
      ],
      "metadata": {
        "colab": {
          "base_uri": "https://localhost:8080/"
        },
        "id": "gmdjQJTdoPUJ",
        "outputId": "1198de84-3c2c-41cd-b145-04302b7d42f1"
      },
      "execution_count": 7,
      "outputs": [
        {
          "output_type": "stream",
          "name": "stdout",
          "text": [
            "/content/drive/MyDrive/movinet\n"
          ]
        }
      ]
    },
    {
      "cell_type": "markdown",
      "metadata": {
        "id": "sWxDDkRwLVMC"
      },
      "source": [
        "# Transfer learning for video classification with MoViNet\n",
        "\n",
        "MoViNets (Mobile Video Networks) provide a family of efficient video classification models, supporting inference on streaming video. In this tutorial, you will use a pre-trained MoViNet model to classify videos, specifically for an action recognition task, from the [UCF101 dataset](https://www.crcv.ucf.edu/data/UCF101.php). A pre-trained model is a saved network that was previously trained on a larger dataset. You can find more details about MoViNets in the [MoViNets: Mobile Video Networks for Efficient Video Recognition](https://arxiv.org/abs/2103.11511) paper by Kondratyuk, D. et al. (2021). In this tutorial, you will: \n",
        "\n",
        "* Learn how to download a pre-trained MoViNet model\n",
        "* Create a new model using a pre-trained model with a new classifier by freezing the convolutional base of the MoViNet model\n",
        "* Replace the classifier head with the number of labels of a new dataset\n",
        "* Perform transfer learning on the [UCF101 dataset](https://www.crcv.ucf.edu/data/UCF101.php)\n",
        "\n",
        "The model downloaded in this tutorial is from [official/projects/movinet](https://github.com/tensorflow/models/tree/master/official/projects/movinet). This repository contains a collection of MoViNet models that TF Hub uses in the TensorFlow 2 SavedModel format.\n",
        "\n",
        "This transfer learning tutorial is the third part in a series of TensorFlow video tutorials. Here are the other three tutorials:\n",
        "\n",
        "- [Load video data](https://www.tensorflow.org/tutorials/load_data/video): This tutorial explains much of the code used in this document; in particular, how to preprocess and load data through the `FrameGenerator` class is explained in more detail.\n",
        "- [Build a 3D CNN model for video classification](https://www.tensorflow.org/tutorials/video/video_classification). Note that this tutorial uses a (2+1)D CNN that decomposes the spatial and temporal aspects of 3D data; if you are using volumetric data such as an MRI scan, consider using a 3D CNN instead of a (2+1)D CNN.\n",
        "- [MoViNet for streaming action recognition](https://www.tensorflow.org/hub/tutorials/movinet): Get familiar with the MoViNet models that are available on TF Hub."
      ]
    },
    {
      "cell_type": "markdown",
      "metadata": {
        "id": "GidiisyXwK--"
      },
      "source": [
        "## Setup\n",
        "\n",
        "Begin by installing and importing some necessary libraries, including:\n",
        "[remotezip](https://github.com/gtsystem/python-remotezip) to inspect the contents of a ZIP file, [tqdm](https://github.com/tqdm/tqdm) to use a progress bar, [OpenCV](https://opencv.org/) to process video files (ensure that `opencv-python` and `opencv-python-headless` are the same version), and TensorFlow models ([`tf-models-official`](https://github.com/tensorflow/models/tree/master/official)) to download the pre-trained MoViNet model. The TensorFlow models package are a collection of models that use TensorFlow’s high-level APIs."
      ]
    },
    {
      "cell_type": "code",
      "execution_count": 8,
      "metadata": {
        "id": "nubWhqYdwEXD",
        "colab": {
          "base_uri": "https://localhost:8080/"
        },
        "outputId": "f014f76c-d2d5-4c30-a32a-37d90d7a3f48"
      },
      "outputs": [
        {
          "output_type": "stream",
          "name": "stdout",
          "text": [
            "Looking in indexes: https://pypi.org/simple, https://us-python.pkg.dev/colab-wheels/public/simple/\n",
            "Collecting remotezip\n",
            "  Downloading remotezip-0.12.1.tar.gz (7.5 kB)\n",
            "  Preparing metadata (setup.py) ... \u001b[?25l\u001b[?25hdone\n",
            "Requirement already satisfied: tqdm in /usr/local/lib/python3.8/dist-packages (4.64.1)\n",
            "Collecting opencv-python==4.5.2.52\n",
            "  Downloading opencv_python-4.5.2.52-cp38-cp38-manylinux2014_x86_64.whl (51.0 MB)\n",
            "\u001b[2K     \u001b[90m━━━━━━━━━━━━━━━━━━━━━━━━━━━━━━━━━━━━━━━━\u001b[0m \u001b[32m51.0/51.0 MB\u001b[0m \u001b[31m15.4 MB/s\u001b[0m eta \u001b[36m0:00:00\u001b[0m\n",
            "\u001b[?25hCollecting opencv-python-headless==4.5.2.52\n",
            "  Downloading opencv_python_headless-4.5.2.52-cp38-cp38-manylinux2014_x86_64.whl (38.2 MB)\n",
            "\u001b[2K     \u001b[90m━━━━━━━━━━━━━━━━━━━━━━━━━━━━━━━━━━━━━━━━\u001b[0m \u001b[32m38.2/38.2 MB\u001b[0m \u001b[31m16.9 MB/s\u001b[0m eta \u001b[36m0:00:00\u001b[0m\n",
            "\u001b[?25hCollecting tf-models-official\n",
            "  Downloading tf_models_official-2.11.3-py2.py3-none-any.whl (2.3 MB)\n",
            "\u001b[2K     \u001b[90m━━━━━━━━━━━━━━━━━━━━━━━━━━━━━━━━━━━━━━━━\u001b[0m \u001b[32m2.3/2.3 MB\u001b[0m \u001b[31m64.4 MB/s\u001b[0m eta \u001b[36m0:00:00\u001b[0m\n",
            "\u001b[?25hRequirement already satisfied: numpy>=1.17.3 in /usr/local/lib/python3.8/dist-packages (from opencv-python==4.5.2.52) (1.21.6)\n",
            "Requirement already satisfied: requests in /usr/local/lib/python3.8/dist-packages (from remotezip) (2.25.1)\n",
            "Requirement already satisfied: tabulate in /usr/local/lib/python3.8/dist-packages (from remotezip) (0.8.10)\n",
            "Collecting sacrebleu\n",
            "  Downloading sacrebleu-2.3.1-py3-none-any.whl (118 kB)\n",
            "\u001b[2K     \u001b[90m━━━━━━━━━━━━━━━━━━━━━━━━━━━━━━━━━━━━━━\u001b[0m \u001b[32m118.9/118.9 KB\u001b[0m \u001b[31m17.5 MB/s\u001b[0m eta \u001b[36m0:00:00\u001b[0m\n",
            "\u001b[?25hRequirement already satisfied: kaggle>=1.3.9 in /usr/local/lib/python3.8/dist-packages (from tf-models-official) (1.5.12)\n",
            "Requirement already satisfied: oauth2client in /usr/local/lib/python3.8/dist-packages (from tf-models-official) (4.1.3)\n",
            "Requirement already satisfied: gin-config in /usr/local/lib/python3.8/dist-packages (from tf-models-official) (0.5.0)\n",
            "Requirement already satisfied: Cython in /usr/local/lib/python3.8/dist-packages (from tf-models-official) (0.29.33)\n",
            "Requirement already satisfied: tensorflow-hub>=0.6.0 in /usr/local/lib/python3.8/dist-packages (from tf-models-official) (0.12.0)\n",
            "Requirement already satisfied: pandas>=0.22.0 in /usr/local/lib/python3.8/dist-packages (from tf-models-official) (1.3.5)\n",
            "Requirement already satisfied: six in /usr/local/lib/python3.8/dist-packages (from tf-models-official) (1.15.0)\n",
            "Requirement already satisfied: google-api-python-client>=1.6.7 in /usr/local/lib/python3.8/dist-packages (from tf-models-official) (2.70.0)\n",
            "Collecting tensorflow-addons\n",
            "  Downloading tensorflow_addons-0.19.0-cp38-cp38-manylinux_2_17_x86_64.manylinux2014_x86_64.whl (1.1 MB)\n",
            "\u001b[2K     \u001b[90m━━━━━━━━━━━━━━━━━━━━━━━━━━━━━━━━━━━━━━━━\u001b[0m \u001b[32m1.1/1.1 MB\u001b[0m \u001b[31m55.3 MB/s\u001b[0m eta \u001b[36m0:00:00\u001b[0m\n",
            "\u001b[?25hCollecting tensorflow-text~=2.11.0\n",
            "  Downloading tensorflow_text-2.11.0-cp38-cp38-manylinux_2_17_x86_64.manylinux2014_x86_64.whl (5.8 MB)\n",
            "\u001b[2K     \u001b[90m━━━━━━━━━━━━━━━━━━━━━━━━━━━━━━━━━━━━━━━━\u001b[0m \u001b[32m5.8/5.8 MB\u001b[0m \u001b[31m64.4 MB/s\u001b[0m eta \u001b[36m0:00:00\u001b[0m\n",
            "\u001b[?25hCollecting tensorflow-model-optimization>=0.4.1\n",
            "  Downloading tensorflow_model_optimization-0.7.3-py2.py3-none-any.whl (238 kB)\n",
            "\u001b[2K     \u001b[90m━━━━━━━━━━━━━━━━━━━━━━━━━━━━━━━━━━━━━━\u001b[0m \u001b[32m238.9/238.9 KB\u001b[0m \u001b[31m27.3 MB/s\u001b[0m eta \u001b[36m0:00:00\u001b[0m\n",
            "\u001b[?25hRequirement already satisfied: psutil>=5.4.3 in /usr/local/lib/python3.8/dist-packages (from tf-models-official) (5.4.8)\n",
            "Collecting tensorflow~=2.11.0\n",
            "  Downloading tensorflow-2.11.0-cp38-cp38-manylinux_2_17_x86_64.manylinux2014_x86_64.whl (588.3 MB)\n",
            "\u001b[2K     \u001b[90m━━━━━━━━━━━━━━━━━━━━━━━━━━━━━━━━━━━━━━━\u001b[0m \u001b[32m588.3/588.3 MB\u001b[0m \u001b[31m2.8 MB/s\u001b[0m eta \u001b[36m0:00:00\u001b[0m\n",
            "\u001b[?25hRequirement already satisfied: Pillow in /usr/local/lib/python3.8/dist-packages (from tf-models-official) (7.1.2)\n",
            "Requirement already satisfied: matplotlib in /usr/local/lib/python3.8/dist-packages (from tf-models-official) (3.2.2)\n",
            "Requirement already satisfied: pycocotools in /usr/local/lib/python3.8/dist-packages (from tf-models-official) (2.0.6)\n",
            "Collecting pyyaml<6.0,>=5.1\n",
            "  Downloading PyYAML-5.4.1-cp38-cp38-manylinux1_x86_64.whl (662 kB)\n",
            "\u001b[2K     \u001b[90m━━━━━━━━━━━━━━━━━━━━━━━━━━━━━━━━━━━━━━\u001b[0m \u001b[32m662.4/662.4 KB\u001b[0m \u001b[31m58.4 MB/s\u001b[0m eta \u001b[36m0:00:00\u001b[0m\n",
            "\u001b[?25hRequirement already satisfied: scipy>=0.19.1 in /usr/local/lib/python3.8/dist-packages (from tf-models-official) (1.7.3)\n",
            "Collecting immutabledict\n",
            "  Downloading immutabledict-2.2.3-py3-none-any.whl (4.0 kB)\n",
            "Collecting seqeval\n",
            "  Downloading seqeval-1.2.2.tar.gz (43 kB)\n",
            "\u001b[2K     \u001b[90m━━━━━━━━━━━━━━━━━━━━━━━━━━━━━━━━━━━━━━━━\u001b[0m \u001b[32m43.6/43.6 KB\u001b[0m \u001b[31m5.9 MB/s\u001b[0m eta \u001b[36m0:00:00\u001b[0m\n",
            "\u001b[?25h  Preparing metadata (setup.py) ... \u001b[?25l\u001b[?25hdone\n",
            "Collecting py-cpuinfo>=3.3.0\n",
            "  Downloading py_cpuinfo-9.0.0-py3-none-any.whl (22 kB)\n",
            "Collecting sentencepiece\n",
            "  Downloading sentencepiece-0.1.97-cp38-cp38-manylinux_2_17_x86_64.manylinux2014_x86_64.whl (1.3 MB)\n",
            "\u001b[2K     \u001b[90m━━━━━━━━━━━━━━━━━━━━━━━━━━━━━━━━━━━━━━━━\u001b[0m \u001b[32m1.3/1.3 MB\u001b[0m \u001b[31m61.0 MB/s\u001b[0m eta \u001b[36m0:00:00\u001b[0m\n",
            "\u001b[?25hCollecting tf-slim>=1.1.0\n",
            "  Downloading tf_slim-1.1.0-py2.py3-none-any.whl (352 kB)\n",
            "\u001b[2K     \u001b[90m━━━━━━━━━━━━━━━━━━━━━━━━━━━━━━━━━━━━━━\u001b[0m \u001b[32m352.1/352.1 KB\u001b[0m \u001b[31m37.6 MB/s\u001b[0m eta \u001b[36m0:00:00\u001b[0m\n",
            "\u001b[?25hRequirement already satisfied: tensorflow-datasets in /usr/local/lib/python3.8/dist-packages (from tf-models-official) (4.8.1)\n",
            "Requirement already satisfied: httplib2<1dev,>=0.15.0 in /usr/local/lib/python3.8/dist-packages (from google-api-python-client>=1.6.7->tf-models-official) (0.17.4)\n",
            "Requirement already satisfied: google-auth-httplib2>=0.1.0 in /usr/local/lib/python3.8/dist-packages (from google-api-python-client>=1.6.7->tf-models-official) (0.1.0)\n",
            "Requirement already satisfied: google-auth<3.0.0dev,>=1.19.0 in /usr/local/lib/python3.8/dist-packages (from google-api-python-client>=1.6.7->tf-models-official) (2.16.0)\n",
            "Requirement already satisfied: google-api-core!=2.0.*,!=2.1.*,!=2.2.*,!=2.3.0,<3.0.0dev,>=1.31.5 in /usr/local/lib/python3.8/dist-packages (from google-api-python-client>=1.6.7->tf-models-official) (2.11.0)\n",
            "Requirement already satisfied: uritemplate<5,>=3.0.1 in /usr/local/lib/python3.8/dist-packages (from google-api-python-client>=1.6.7->tf-models-official) (4.1.1)\n",
            "Requirement already satisfied: python-dateutil in /usr/local/lib/python3.8/dist-packages (from kaggle>=1.3.9->tf-models-official) (2.8.2)\n",
            "Requirement already satisfied: certifi in /usr/local/lib/python3.8/dist-packages (from kaggle>=1.3.9->tf-models-official) (2022.12.7)\n",
            "Requirement already satisfied: python-slugify in /usr/local/lib/python3.8/dist-packages (from kaggle>=1.3.9->tf-models-official) (7.0.0)\n",
            "Requirement already satisfied: urllib3 in /usr/local/lib/python3.8/dist-packages (from kaggle>=1.3.9->tf-models-official) (1.24.3)\n",
            "Requirement already satisfied: pytz>=2017.3 in /usr/local/lib/python3.8/dist-packages (from pandas>=0.22.0->tf-models-official) (2022.7)\n",
            "Requirement already satisfied: gast<=0.4.0,>=0.2.1 in /usr/local/lib/python3.8/dist-packages (from tensorflow~=2.11.0->tf-models-official) (0.4.0)\n",
            "Requirement already satisfied: libclang>=13.0.0 in /usr/local/lib/python3.8/dist-packages (from tensorflow~=2.11.0->tf-models-official) (15.0.6.1)\n",
            "Requirement already satisfied: packaging in /usr/local/lib/python3.8/dist-packages (from tensorflow~=2.11.0->tf-models-official) (21.3)\n",
            "Requirement already satisfied: google-pasta>=0.1.1 in /usr/local/lib/python3.8/dist-packages (from tensorflow~=2.11.0->tf-models-official) (0.2.0)\n",
            "Collecting keras<2.12,>=2.11.0\n",
            "  Downloading keras-2.11.0-py2.py3-none-any.whl (1.7 MB)\n",
            "\u001b[2K     \u001b[90m━━━━━━━━━━━━━━━━━━━━━━━━━━━━━━━━━━━━━━━━\u001b[0m \u001b[32m1.7/1.7 MB\u001b[0m \u001b[31m77.7 MB/s\u001b[0m eta \u001b[36m0:00:00\u001b[0m\n",
            "\u001b[?25hRequirement already satisfied: wrapt>=1.11.0 in /usr/local/lib/python3.8/dist-packages (from tensorflow~=2.11.0->tf-models-official) (1.14.1)\n",
            "Requirement already satisfied: termcolor>=1.1.0 in /usr/local/lib/python3.8/dist-packages (from tensorflow~=2.11.0->tf-models-official) (2.2.0)\n",
            "Requirement already satisfied: absl-py>=1.0.0 in /usr/local/lib/python3.8/dist-packages (from tensorflow~=2.11.0->tf-models-official) (1.3.0)\n",
            "Requirement already satisfied: grpcio<2.0,>=1.24.3 in /usr/local/lib/python3.8/dist-packages (from tensorflow~=2.11.0->tf-models-official) (1.51.1)\n",
            "Collecting tensorflow-estimator<2.12,>=2.11.0\n",
            "  Downloading tensorflow_estimator-2.11.0-py2.py3-none-any.whl (439 kB)\n",
            "\u001b[2K     \u001b[90m━━━━━━━━━━━━━━━━━━━━━━━━━━━━━━━━━━━━━━\u001b[0m \u001b[32m439.2/439.2 KB\u001b[0m \u001b[31m44.4 MB/s\u001b[0m eta \u001b[36m0:00:00\u001b[0m\n",
            "\u001b[?25hCollecting flatbuffers>=2.0\n",
            "  Downloading flatbuffers-23.1.21-py2.py3-none-any.whl (26 kB)\n",
            "Requirement already satisfied: h5py>=2.9.0 in /usr/local/lib/python3.8/dist-packages (from tensorflow~=2.11.0->tf-models-official) (3.1.0)\n",
            "Requirement already satisfied: tensorflow-io-gcs-filesystem>=0.23.1 in /usr/local/lib/python3.8/dist-packages (from tensorflow~=2.11.0->tf-models-official) (0.29.0)\n",
            "Requirement already satisfied: opt-einsum>=2.3.2 in /usr/local/lib/python3.8/dist-packages (from tensorflow~=2.11.0->tf-models-official) (3.3.0)\n",
            "Requirement already satisfied: typing-extensions>=3.6.6 in /usr/local/lib/python3.8/dist-packages (from tensorflow~=2.11.0->tf-models-official) (4.4.0)\n",
            "Collecting tensorboard<2.12,>=2.11\n",
            "  Downloading tensorboard-2.11.2-py3-none-any.whl (6.0 MB)\n",
            "\u001b[2K     \u001b[90m━━━━━━━━━━━━━━━━━━━━━━━━━━━━━━━━━━━━━━━━\u001b[0m \u001b[32m6.0/6.0 MB\u001b[0m \u001b[31m82.7 MB/s\u001b[0m eta \u001b[36m0:00:00\u001b[0m\n",
            "\u001b[?25hRequirement already satisfied: protobuf<3.20,>=3.9.2 in /usr/local/lib/python3.8/dist-packages (from tensorflow~=2.11.0->tf-models-official) (3.19.6)\n",
            "Requirement already satisfied: setuptools in /usr/local/lib/python3.8/dist-packages (from tensorflow~=2.11.0->tf-models-official) (57.4.0)\n",
            "Requirement already satisfied: astunparse>=1.6.0 in /usr/local/lib/python3.8/dist-packages (from tensorflow~=2.11.0->tf-models-official) (1.6.3)\n",
            "Requirement already satisfied: dm-tree~=0.1.1 in /usr/local/lib/python3.8/dist-packages (from tensorflow-model-optimization>=0.4.1->tf-models-official) (0.1.8)\n",
            "Requirement already satisfied: cycler>=0.10 in /usr/local/lib/python3.8/dist-packages (from matplotlib->tf-models-official) (0.11.0)\n",
            "Requirement already satisfied: kiwisolver>=1.0.1 in /usr/local/lib/python3.8/dist-packages (from matplotlib->tf-models-official) (1.4.4)\n",
            "Requirement already satisfied: pyparsing!=2.0.4,!=2.1.2,!=2.1.6,>=2.0.1 in /usr/local/lib/python3.8/dist-packages (from matplotlib->tf-models-official) (3.0.9)\n",
            "Requirement already satisfied: pyasn1>=0.1.7 in /usr/local/lib/python3.8/dist-packages (from oauth2client->tf-models-official) (0.4.8)\n",
            "Requirement already satisfied: pyasn1-modules>=0.0.5 in /usr/local/lib/python3.8/dist-packages (from oauth2client->tf-models-official) (0.2.8)\n",
            "Requirement already satisfied: rsa>=3.1.4 in /usr/local/lib/python3.8/dist-packages (from oauth2client->tf-models-official) (4.9)\n",
            "Requirement already satisfied: idna<3,>=2.5 in /usr/local/lib/python3.8/dist-packages (from requests->remotezip) (2.10)\n",
            "Requirement already satisfied: chardet<5,>=3.0.2 in /usr/local/lib/python3.8/dist-packages (from requests->remotezip) (4.0.0)\n",
            "Collecting colorama\n",
            "  Downloading colorama-0.4.6-py2.py3-none-any.whl (25 kB)\n",
            "Requirement already satisfied: regex in /usr/local/lib/python3.8/dist-packages (from sacrebleu->tf-models-official) (2022.6.2)\n",
            "Requirement already satisfied: lxml in /usr/local/lib/python3.8/dist-packages (from sacrebleu->tf-models-official) (4.9.2)\n",
            "Collecting portalocker\n",
            "  Downloading portalocker-2.7.0-py2.py3-none-any.whl (15 kB)\n",
            "Requirement already satisfied: scikit-learn>=0.21.3 in /usr/local/lib/python3.8/dist-packages (from seqeval->tf-models-official) (1.0.2)\n",
            "Requirement already satisfied: typeguard>=2.7 in /usr/local/lib/python3.8/dist-packages (from tensorflow-addons->tf-models-official) (2.7.1)\n",
            "Requirement already satisfied: promise in /usr/local/lib/python3.8/dist-packages (from tensorflow-datasets->tf-models-official) (2.3)\n",
            "Requirement already satisfied: dill in /usr/local/lib/python3.8/dist-packages (from tensorflow-datasets->tf-models-official) (0.3.6)\n",
            "Requirement already satisfied: click in /usr/local/lib/python3.8/dist-packages (from tensorflow-datasets->tf-models-official) (7.1.2)\n",
            "Requirement already satisfied: etils[enp,epath]>=0.9.0 in /usr/local/lib/python3.8/dist-packages (from tensorflow-datasets->tf-models-official) (1.0.0)\n",
            "Requirement already satisfied: importlib-resources in /usr/local/lib/python3.8/dist-packages (from tensorflow-datasets->tf-models-official) (5.10.2)\n",
            "Requirement already satisfied: toml in /usr/local/lib/python3.8/dist-packages (from tensorflow-datasets->tf-models-official) (0.10.2)\n",
            "Requirement already satisfied: tensorflow-metadata in /usr/local/lib/python3.8/dist-packages (from tensorflow-datasets->tf-models-official) (1.12.0)\n",
            "Requirement already satisfied: wheel<1.0,>=0.23.0 in /usr/local/lib/python3.8/dist-packages (from astunparse>=1.6.0->tensorflow~=2.11.0->tf-models-official) (0.38.4)\n",
            "Requirement already satisfied: zipp in /usr/local/lib/python3.8/dist-packages (from etils[enp,epath]>=0.9.0->tensorflow-datasets->tf-models-official) (3.11.0)\n",
            "Requirement already satisfied: googleapis-common-protos<2.0dev,>=1.56.2 in /usr/local/lib/python3.8/dist-packages (from google-api-core!=2.0.*,!=2.1.*,!=2.2.*,!=2.3.0,<3.0.0dev,>=1.31.5->google-api-python-client>=1.6.7->tf-models-official) (1.58.0)\n",
            "Requirement already satisfied: cachetools<6.0,>=2.0.0 in /usr/local/lib/python3.8/dist-packages (from google-auth<3.0.0dev,>=1.19.0->google-api-python-client>=1.6.7->tf-models-official) (5.2.1)\n",
            "Requirement already satisfied: joblib>=0.11 in /usr/local/lib/python3.8/dist-packages (from scikit-learn>=0.21.3->seqeval->tf-models-official) (1.2.0)\n",
            "Requirement already satisfied: threadpoolctl>=2.0.0 in /usr/local/lib/python3.8/dist-packages (from scikit-learn>=0.21.3->seqeval->tf-models-official) (3.1.0)\n",
            "Requirement already satisfied: tensorboard-plugin-wit>=1.6.0 in /usr/local/lib/python3.8/dist-packages (from tensorboard<2.12,>=2.11->tensorflow~=2.11.0->tf-models-official) (1.8.1)\n",
            "Requirement already satisfied: google-auth-oauthlib<0.5,>=0.4.1 in /usr/local/lib/python3.8/dist-packages (from tensorboard<2.12,>=2.11->tensorflow~=2.11.0->tf-models-official) (0.4.6)\n",
            "Requirement already satisfied: werkzeug>=1.0.1 in /usr/local/lib/python3.8/dist-packages (from tensorboard<2.12,>=2.11->tensorflow~=2.11.0->tf-models-official) (1.0.1)\n",
            "Requirement already satisfied: markdown>=2.6.8 in /usr/local/lib/python3.8/dist-packages (from tensorboard<2.12,>=2.11->tensorflow~=2.11.0->tf-models-official) (3.4.1)\n",
            "Requirement already satisfied: tensorboard-data-server<0.7.0,>=0.6.0 in /usr/local/lib/python3.8/dist-packages (from tensorboard<2.12,>=2.11->tensorflow~=2.11.0->tf-models-official) (0.6.1)\n",
            "Requirement already satisfied: text-unidecode>=1.3 in /usr/local/lib/python3.8/dist-packages (from python-slugify->kaggle>=1.3.9->tf-models-official) (1.3)\n",
            "Requirement already satisfied: requests-oauthlib>=0.7.0 in /usr/local/lib/python3.8/dist-packages (from google-auth-oauthlib<0.5,>=0.4.1->tensorboard<2.12,>=2.11->tensorflow~=2.11.0->tf-models-official) (1.3.1)\n",
            "Requirement already satisfied: importlib-metadata>=4.4 in /usr/local/lib/python3.8/dist-packages (from markdown>=2.6.8->tensorboard<2.12,>=2.11->tensorflow~=2.11.0->tf-models-official) (6.0.0)\n",
            "Requirement already satisfied: oauthlib>=3.0.0 in /usr/local/lib/python3.8/dist-packages (from requests-oauthlib>=0.7.0->google-auth-oauthlib<0.5,>=0.4.1->tensorboard<2.12,>=2.11->tensorflow~=2.11.0->tf-models-official) (3.2.2)\n",
            "Building wheels for collected packages: remotezip, seqeval\n",
            "  Building wheel for remotezip (setup.py) ... \u001b[?25l\u001b[?25hdone\n",
            "  Created wheel for remotezip: filename=remotezip-0.12.1-py3-none-any.whl size=7947 sha256=536891bb1fd0f81d198552612e2fc3fe426985cc46ed8fae7780d33d7fb1b2e1\n",
            "  Stored in directory: /root/.cache/pip/wheels/36/69/50/7b5a7fd4fda1cbb85c080b1c05cbbd2f88ac6a665260910b13\n",
            "  Building wheel for seqeval (setup.py) ... \u001b[?25l\u001b[?25hdone\n",
            "  Created wheel for seqeval: filename=seqeval-1.2.2-py3-none-any.whl size=16179 sha256=0cc74cc9ed986ad4487218a45273d887809e731308daccff68d16ad609391ef4\n",
            "  Stored in directory: /root/.cache/pip/wheels/ad/5c/ba/05fa33fa5855777b7d686e843ec07452f22a66a138e290e732\n",
            "Successfully built remotezip seqeval\n",
            "Installing collected packages: sentencepiece, py-cpuinfo, flatbuffers, tf-slim, tensorflow-model-optimization, tensorflow-estimator, pyyaml, portalocker, opencv-python-headless, opencv-python, keras, immutabledict, colorama, tensorflow-addons, sacrebleu, remotezip, seqeval, tensorboard, tensorflow, tensorflow-text, tf-models-official\n",
            "  Attempting uninstall: flatbuffers\n",
            "    Found existing installation: flatbuffers 1.12\n",
            "    Uninstalling flatbuffers-1.12:\n",
            "      Successfully uninstalled flatbuffers-1.12\n",
            "  Attempting uninstall: tensorflow-estimator\n",
            "    Found existing installation: tensorflow-estimator 2.9.0\n",
            "    Uninstalling tensorflow-estimator-2.9.0:\n",
            "      Successfully uninstalled tensorflow-estimator-2.9.0\n",
            "  Attempting uninstall: pyyaml\n",
            "    Found existing installation: PyYAML 6.0\n",
            "    Uninstalling PyYAML-6.0:\n",
            "      Successfully uninstalled PyYAML-6.0\n",
            "  Attempting uninstall: opencv-python-headless\n",
            "    Found existing installation: opencv-python-headless 4.7.0.68\n",
            "    Uninstalling opencv-python-headless-4.7.0.68:\n",
            "      Successfully uninstalled opencv-python-headless-4.7.0.68\n",
            "  Attempting uninstall: opencv-python\n",
            "    Found existing installation: opencv-python 4.6.0.66\n",
            "    Uninstalling opencv-python-4.6.0.66:\n",
            "      Successfully uninstalled opencv-python-4.6.0.66\n",
            "  Attempting uninstall: keras\n",
            "    Found existing installation: keras 2.9.0\n",
            "    Uninstalling keras-2.9.0:\n",
            "      Successfully uninstalled keras-2.9.0\n",
            "  Attempting uninstall: tensorboard\n",
            "    Found existing installation: tensorboard 2.9.1\n",
            "    Uninstalling tensorboard-2.9.1:\n",
            "      Successfully uninstalled tensorboard-2.9.1\n",
            "  Attempting uninstall: tensorflow\n",
            "    Found existing installation: tensorflow 2.9.2\n",
            "    Uninstalling tensorflow-2.9.2:\n",
            "      Successfully uninstalled tensorflow-2.9.2\n",
            "Successfully installed colorama-0.4.6 flatbuffers-23.1.21 immutabledict-2.2.3 keras-2.11.0 opencv-python-4.5.2.52 opencv-python-headless-4.5.2.52 portalocker-2.7.0 py-cpuinfo-9.0.0 pyyaml-5.4.1 remotezip-0.12.1 sacrebleu-2.3.1 sentencepiece-0.1.97 seqeval-1.2.2 tensorboard-2.11.2 tensorflow-2.11.0 tensorflow-addons-0.19.0 tensorflow-estimator-2.11.0 tensorflow-model-optimization-0.7.3 tensorflow-text-2.11.0 tf-models-official-2.11.3 tf-slim-1.1.0\n"
          ]
        }
      ],
      "source": [
        "!pip install remotezip tqdm opencv-python==4.5.2.52 opencv-python-headless==4.5.2.52 tf-models-official"
      ]
    },
    {
      "cell_type": "code",
      "execution_count": 9,
      "metadata": {
        "id": "QImPsudoK9JI"
      },
      "outputs": [],
      "source": [
        "import tqdm\n",
        "import random\n",
        "import pathlib\n",
        "import itertools\n",
        "import collections\n",
        "\n",
        "import cv2\n",
        "import numpy as np\n",
        "import remotezip as rz\n",
        "import seaborn as sns\n",
        "import matplotlib.pyplot as plt\n",
        "\n",
        "import keras\n",
        "import tensorflow as tf\n",
        "import tensorflow_hub as hub\n",
        "from tensorflow.keras import layers\n",
        "from tensorflow.keras.optimizers import Adam\n",
        "from tensorflow.keras.losses import SparseCategoricalCrossentropy\n",
        "\n",
        "# Import the MoViNet model from TensorFlow Models (tf-models-official) for the MoViNet model\n",
        "from official.projects.movinet.modeling import movinet\n",
        "from official.projects.movinet.modeling import movinet_model"
      ]
    },
    {
      "cell_type": "markdown",
      "metadata": {
        "id": "2w3H4dfOPfnm"
      },
      "source": [
        "## Load data\n",
        " \n",
        "The hidden cell below defines helper functions to download a slice of data from the UCF-101 dataset, and load it into a `tf.data.Dataset`. The [Loading video data tutorial](https://www.tensorflow.org/tutorials/load_data/video) provides a detailed walkthrough of this code.\n",
        "\n",
        "The `FrameGenerator` class at the end of the hidden block is the most important utility here. It creates an iterable object that can feed data into the TensorFlow data pipeline. Specifically, this class contains a Python generator that loads the video frames along with its encoded label. The generator (`__call__`) function yields the frame array produced by `frames_from_video_file` and a one-hot encoded vector of the label associated with the set of frames.\n",
        "\n"
      ]
    },
    {
      "cell_type": "code",
      "execution_count": 10,
      "metadata": {
        "id": "fwEhJ13_PSy6"
      },
      "outputs": [],
      "source": [
        "#@title \n",
        "\n",
        "def list_files_per_class(zip_url):\n",
        "  \"\"\"\n",
        "    List the files in each class of the dataset given the zip URL.\n",
        "\n",
        "    Args:\n",
        "      zip_url: URL from which the files can be unzipped. \n",
        "\n",
        "    Return:\n",
        "      files: List of files in each of the classes.\n",
        "  \"\"\"\n",
        "  files = []\n",
        "  with rz.RemoteZip(URL) as zip:\n",
        "    for zip_info in zip.infolist():\n",
        "      files.append(zip_info.filename)\n",
        "  return files\n",
        "\n",
        "def get_class(fname):\n",
        "  \"\"\"\n",
        "    Retrieve the name of the class given a filename.\n",
        "\n",
        "    Args:\n",
        "      fname: Name of the file in the UCF101 dataset.\n",
        "\n",
        "    Return:\n",
        "      Class that the file belongs to.\n",
        "  \"\"\"\n",
        "  return fname.split('_')[-3]\n",
        "\n",
        "def get_files_per_class(files):\n",
        "  \"\"\"\n",
        "    Retrieve the files that belong to each class. \n",
        "\n",
        "    Args:\n",
        "      files: List of files in the dataset.\n",
        "\n",
        "    Return:\n",
        "      Dictionary of class names (key) and files (values).\n",
        "  \"\"\"\n",
        "  files_for_class = collections.defaultdict(list)\n",
        "  for fname in files:\n",
        "    class_name = get_class(fname)\n",
        "    files_for_class[class_name].append(fname)\n",
        "  return files_for_class\n",
        "\n",
        "def download_from_zip(zip_url, to_dir, file_names):\n",
        "  \"\"\"\n",
        "    Download the contents of the zip file from the zip URL.\n",
        "\n",
        "    Args:\n",
        "      zip_url: Zip URL containing data.\n",
        "      to_dir: Directory to download data to.\n",
        "      file_names: Names of files to download.\n",
        "  \"\"\"\n",
        "  with rz.RemoteZip(zip_url) as zip:\n",
        "    for fn in tqdm.tqdm(file_names):\n",
        "      class_name = get_class(fn)\n",
        "      zip.extract(fn, str(to_dir / class_name))\n",
        "      unzipped_file = to_dir / class_name / fn\n",
        "\n",
        "      fn = pathlib.Path(fn).parts[-1]\n",
        "      output_file = to_dir / class_name / fn\n",
        "      unzipped_file.rename(output_file,)\n",
        "\n",
        "def split_class_lists(files_for_class, count):\n",
        "  \"\"\"\n",
        "    Returns the list of files belonging to a subset of data as well as the remainder of\n",
        "    files that need to be downloaded.\n",
        "\n",
        "    Args:\n",
        "      files_for_class: Files belonging to a particular class of data.\n",
        "      count: Number of files to download.\n",
        "\n",
        "    Return:\n",
        "      split_files: Files belonging to the subset of data.\n",
        "      remainder: Dictionary of the remainder of files that need to be downloaded.\n",
        "  \"\"\"\n",
        "  split_files = []\n",
        "  remainder = {}\n",
        "  for cls in files_for_class:\n",
        "    split_files.extend(files_for_class[cls][:count])\n",
        "    remainder[cls] = files_for_class[cls][count:]\n",
        "  return split_files, remainder\n",
        "\n",
        "def download_ufc_101_subset(zip_url, num_classes, splits, download_dir):\n",
        "  \"\"\"\n",
        "    Download a subset of the UFC101 dataset and split them into various parts, such as\n",
        "    training, validation, and test. \n",
        "\n",
        "    Args:\n",
        "      zip_url: Zip URL containing data.\n",
        "      num_classes: Number of labels.\n",
        "      splits: Dictionary specifying the training, validation, test, etc. (key) division of data \n",
        "              (value is number of files per split).\n",
        "      download_dir: Directory to download data to.\n",
        "\n",
        "    Return:\n",
        "      dir: Posix path of the resulting directories containing the splits of data.\n",
        "  \"\"\"\n",
        "  files = list_files_per_class(zip_url)\n",
        "  for f in files:\n",
        "    tokens = f.split('/')\n",
        "    if len(tokens) <= 2:\n",
        "      files.remove(f) # Remove that item from the list if it does not have a filename\n",
        "\n",
        "  files_for_class = get_files_per_class(files)\n",
        "\n",
        "  classes = list(files_for_class.keys())[:num_classes]\n",
        "\n",
        "  for cls in classes:\n",
        "    new_files_for_class = files_for_class[cls]\n",
        "    random.shuffle(new_files_for_class)\n",
        "    files_for_class[cls] = new_files_for_class\n",
        "\n",
        "  # Only use the number of classes you want in the dictionary\n",
        "  files_for_class = {x: files_for_class[x] for x in list(files_for_class)[:num_classes]}\n",
        "\n",
        "  dirs = {}\n",
        "  for split_name, split_count in splits.items():\n",
        "    print(split_name, \":\")\n",
        "    split_dir = download_dir / split_name\n",
        "    split_files, files_for_class = split_class_lists(files_for_class, split_count)\n",
        "    download_from_zip(zip_url, split_dir, split_files)\n",
        "    dirs[split_name] = split_dir\n",
        "\n",
        "  return dirs\n",
        "\n",
        "def format_frames(frame, output_size):\n",
        "  \"\"\"\n",
        "    Pad and resize an image from a video.\n",
        "\n",
        "    Args:\n",
        "      frame: Image that needs to resized and padded. \n",
        "      output_size: Pixel size of the output frame image.\n",
        "\n",
        "    Return:\n",
        "      Formatted frame with padding of specified output size.\n",
        "  \"\"\"\n",
        "  frame = tf.image.convert_image_dtype(frame, tf.float32)\n",
        "  frame = tf.image.resize_with_pad(frame, *output_size)\n",
        "  return frame\n",
        "\n",
        "def frames_from_video_file(video_path, n_frames, output_size = (224,224), frame_step = 15):\n",
        "  \"\"\"\n",
        "    Creates frames from each video file present for each category.\n",
        "\n",
        "    Args:\n",
        "      video_path: File path to the video.\n",
        "      n_frames: Number of frames to be created per video file.\n",
        "      output_size: Pixel size of the output frame image.\n",
        "\n",
        "    Return:\n",
        "      An NumPy array of frames in the shape of (n_frames, height, width, channels).\n",
        "  \"\"\"\n",
        "  # Read each video frame by frame\n",
        "  result = []\n",
        "  src = cv2.VideoCapture(str(video_path))  \n",
        "\n",
        "  video_length = src.get(cv2.CAP_PROP_FRAME_COUNT)\n",
        "\n",
        "  need_length = 1 + (n_frames - 1) * frame_step\n",
        "\n",
        "  if need_length > video_length:\n",
        "    start = 0\n",
        "  else:\n",
        "    max_start = video_length - need_length\n",
        "    start = random.randint(0, max_start + 1)\n",
        "\n",
        "  src.set(cv2.CAP_PROP_POS_FRAMES, start)\n",
        "  # ret is a boolean indicating whether read was successful, frame is the image itself\n",
        "  ret, frame = src.read()\n",
        "  result.append(format_frames(frame, output_size))\n",
        "\n",
        "  for _ in range(n_frames - 1):\n",
        "    for _ in range(frame_step):\n",
        "      ret, frame = src.read()\n",
        "    if ret:\n",
        "      frame = format_frames(frame, output_size)\n",
        "      result.append(frame)\n",
        "    else:\n",
        "      result.append(np.zeros_like(result[0]))\n",
        "  src.release()\n",
        "  result = np.array(result)[..., [2, 1, 0]]\n",
        "\n",
        "  return result\n",
        "\n",
        "class FrameGenerator:\n",
        "  def __init__(self, path, n_frames, training = False):\n",
        "    \"\"\" Returns a set of frames with their associated label. \n",
        "\n",
        "      Args:\n",
        "        path: Video file paths.\n",
        "        n_frames: Number of frames. \n",
        "        training: Boolean to determine if training dataset is being created.\n",
        "    \"\"\"\n",
        "    self.path = path\n",
        "    self.n_frames = n_frames\n",
        "    self.training = training\n",
        "    self.class_names = sorted(set(p.name for p in self.path.iterdir() if p.is_dir()))\n",
        "    self.class_ids_for_name = dict((name, idx) for idx, name in enumerate(self.class_names))\n",
        "\n",
        "  def get_files_and_class_names(self):\n",
        "    video_paths = list(self.path.glob('*/*.avi'))\n",
        "    classes = [p.parent.name for p in video_paths] \n",
        "    return video_paths, classes\n",
        "\n",
        "  def __call__(self):\n",
        "    video_paths, classes = self.get_files_and_class_names()\n",
        "\n",
        "    pairs = list(zip(video_paths, classes))\n",
        "\n",
        "    if self.training:\n",
        "      random.shuffle(pairs)\n",
        "\n",
        "    for path, name in pairs:\n",
        "      video_frames = frames_from_video_file(path, self.n_frames) \n",
        "      label = self.class_ids_for_name[name] # Encode labels\n",
        "      yield video_frames, label"
      ]
    },
    {
      "cell_type": "code",
      "execution_count": 11,
      "metadata": {
        "id": "vDHrNLZkPSR9",
        "colab": {
          "base_uri": "https://localhost:8080/"
        },
        "outputId": "9f033a6d-6db3-498c-cca2-c9ef415ed615"
      },
      "outputs": [
        {
          "output_type": "stream",
          "name": "stdout",
          "text": [
            "train :\n"
          ]
        },
        {
          "output_type": "stream",
          "name": "stderr",
          "text": [
            "100%|██████████| 60/60 [00:28<00:00,  2.13it/s]\n"
          ]
        },
        {
          "output_type": "stream",
          "name": "stdout",
          "text": [
            "test :\n"
          ]
        },
        {
          "output_type": "stream",
          "name": "stderr",
          "text": [
            "100%|██████████| 40/40 [00:19<00:00,  2.06it/s]\n"
          ]
        }
      ],
      "source": [
        "URL = 'https://storage.googleapis.com/thumos14_files/UCF101_videos.zip'\n",
        "download_dir = pathlib.Path('./UCF101_subset/')\n",
        "subset_paths = download_ufc_101_subset(URL, \n",
        "                        num_classes = 2, \n",
        "                        splits = {\"train\": 30, \"test\": 20}, \n",
        "                        download_dir = download_dir)"
      ]
    },
    {
      "cell_type": "code",
      "source": [
        "tf.test.gpu_device_name()"
      ],
      "metadata": {
        "colab": {
          "base_uri": "https://localhost:8080/",
          "height": 36
        },
        "id": "quUSmI0asXB2",
        "outputId": "783b057f-6717-43ad-e514-89bfc68b5c63"
      },
      "execution_count": 22,
      "outputs": [
        {
          "output_type": "execute_result",
          "data": {
            "text/plain": [
              "'/device:GPU:0'"
            ],
            "application/vnd.google.colaboratory.intrinsic+json": {
              "type": "string"
            }
          },
          "metadata": {},
          "execution_count": 22
        }
      ]
    },
    {
      "cell_type": "markdown",
      "metadata": {
        "id": "aYYShfhMx9DW"
      },
      "source": [
        "Create the training and test datasets:"
      ]
    },
    {
      "cell_type": "code",
      "execution_count": 23,
      "metadata": {
        "id": "-twTu3_Bx-iJ"
      },
      "outputs": [],
      "source": [
        "batch_size = 8\n",
        "num_frames = 8\n",
        "\n",
        "output_signature = (tf.TensorSpec(shape = (None, None, None, 3), dtype = tf.float32),\n",
        "                    tf.TensorSpec(shape = (), dtype = tf.int16))\n",
        "\n",
        "train_ds = tf.data.Dataset.from_generator(FrameGenerator(subset_paths['train'], num_frames, training = True),\n",
        "                                          output_signature = output_signature)\n",
        "train_ds = train_ds.batch(batch_size)\n",
        "\n",
        "test_ds = tf.data.Dataset.from_generator(FrameGenerator(subset_paths['test'], num_frames),\n",
        "                                         output_signature = output_signature)\n",
        "test_ds = test_ds.batch(batch_size)"
      ]
    },
    {
      "cell_type": "markdown",
      "metadata": {
        "id": "d7stgmuBCGQT"
      },
      "source": [
        "The labels generated here represent the encoding of the classes. For instance, 'ApplyEyeMakeup' is mapped to the integer Take a look at the labels of the training data to ensure that the dataset has been sufficiently shuffled. "
      ]
    },
    {
      "cell_type": "code",
      "execution_count": 24,
      "metadata": {
        "id": "k9L2-toXCOQq",
        "colab": {
          "base_uri": "https://localhost:8080/"
        },
        "outputId": "6b40cae4-9be2-4a34-9975-23fae38b6053"
      },
      "outputs": [
        {
          "output_type": "stream",
          "name": "stdout",
          "text": [
            "tf.Tensor([0 1 0 0 0 1 1 1], shape=(8,), dtype=int16)\n",
            "tf.Tensor([0 0 0 0 1 0 0 0], shape=(8,), dtype=int16)\n",
            "tf.Tensor([1 1 0 1 1 1 1 1], shape=(8,), dtype=int16)\n",
            "tf.Tensor([1 0 0 1 0 0 1 1], shape=(8,), dtype=int16)\n",
            "tf.Tensor([0 0 0 0 1 0 0 1], shape=(8,), dtype=int16)\n",
            "tf.Tensor([1 0 1 0 0 1 0 1], shape=(8,), dtype=int16)\n",
            "tf.Tensor([0 1 0 0 1 1 1 1], shape=(8,), dtype=int16)\n",
            "tf.Tensor([0 1 1 0 0 0 0 0], shape=(8,), dtype=int16)\n",
            "tf.Tensor([0 0 0 0 1 0 0 1], shape=(8,), dtype=int16)\n",
            "tf.Tensor([1 1 0 0 0 0 1 0], shape=(8,), dtype=int16)\n"
          ]
        }
      ],
      "source": [
        "for frames, labels in train_ds.take(10):\n",
        "  print(labels)"
      ]
    },
    {
      "cell_type": "markdown",
      "metadata": {
        "id": "YZ3qwZnpfy9c"
      },
      "source": [
        "Take a look at the shape of the data."
      ]
    },
    {
      "cell_type": "code",
      "execution_count": 26,
      "metadata": {
        "id": "b6MqP4m2fyQT",
        "colab": {
          "base_uri": "https://localhost:8080/"
        },
        "outputId": "7f3616da-ee7b-477e-84cb-2caf450f8108"
      },
      "outputs": [
        {
          "output_type": "stream",
          "name": "stdout",
          "text": [
            "Shape: (8, 8, 224, 224, 3)\n",
            "Label: (8,)\n"
          ]
        }
      ],
      "source": [
        "print(f\"Shape: {frames.shape}\")\n",
        "print(f\"Label: {labels.shape}\")"
      ]
    },
    {
      "cell_type": "markdown",
      "metadata": {
        "id": "lxbhPqXGvc_F"
      },
      "source": [
        "## What are MoViNets?\n",
        "\n",
        "As mentioned previously, [MoViNets](https://arxiv.org/abs/2103.11511) are video classification models used for streaming video or online inference in tasks, such as action recognition. Consider using MoViNets to classify your video data for action recognition.\n",
        "\n",
        "A 2D frame based classifier is efficient and simple to run over whole videos, or streaming one frame at a time. Because they can't take temporal context into account they have limited accuracy and may give inconsistent outputs from frame to frame.\n",
        "\n",
        "A simple 3D CNN uses bidirectional temporal context which can increase accuracy and temporal consistency. These networks may require more resources and because they look into the future they can't be used for streaming data.\n",
        "\n",
        "![Standard convolution](https://www.tensorflow.org/images/tutorials/video/standard_convolution.png)\n",
        "\n",
        "The MoViNet architecture uses 3D convolutions that are \"causal\" along the time axis (like `layers.Conv1D` with `padding=\"causal\"`). This gives some of the advantages of both approaches, mainly it allow for efficient streaming.\n",
        "\n",
        "![Causal convolution](https://www.tensorflow.org/images/tutorials/video/causal_convolution.png)\n",
        "\n",
        "Causal convolution ensures that the output at time *t* is computed using only inputs up to time *t*. To demonstrate how this can make streaming more efficient, start with a simpler example you may be familiar with: an RNN. The RNN passes state forward through time:\n",
        "\n",
        "![RNN model](https://www.tensorflow.org/images/tutorials/video/rnn_comparison.png)"
      ]
    },
    {
      "cell_type": "code",
      "execution_count": 27,
      "metadata": {
        "id": "dMvDkgfFZC6a"
      },
      "outputs": [],
      "source": [
        "gru = layers.GRU(units=4, return_sequences=True, return_state=True)\n",
        "\n",
        "inputs = tf.random.normal(shape=[1, 10, 8]) # (batch, sequence, channels)\n",
        "\n",
        "result, state = gru(inputs) # Run it all at once"
      ]
    },
    {
      "cell_type": "markdown",
      "metadata": {
        "id": "T7xyb5C4bTs7"
      },
      "source": [
        "By setting the RNN's `return_sequences=True` argument you ask it to return the state at the end of the computation. This allows you to pause and then continue where you left off, to get exactly the same result:\n",
        "\n",
        "![States passing in RNNs](https://www.tensorflow.org/images/tutorials/video/rnn_state_passing.png)"
      ]
    },
    {
      "cell_type": "code",
      "execution_count": 28,
      "metadata": {
        "id": "bI8FOPRRXXPa",
        "colab": {
          "base_uri": "https://localhost:8080/"
        },
        "outputId": "c5284eda-2bd4-4245-d2bf-0d99f953bc86"
      },
      "outputs": [
        {
          "output_type": "stream",
          "name": "stdout",
          "text": [
            "True\n",
            "True\n"
          ]
        }
      ],
      "source": [
        "first_half, state = gru(inputs[:, :5, :])   # run the first half, and capture the state\n",
        "second_half, _ = gru(inputs[:,5:, :], initial_state=state)  # Use the state to continue where you left off.\n",
        "\n",
        "print(np.allclose(result[:, :5,:], first_half))\n",
        "print(np.allclose(result[:, 5:,:], second_half))"
      ]
    },
    {
      "cell_type": "markdown",
      "metadata": {
        "id": "KM3MArumY_Qk"
      },
      "source": [
        "Causal convolutions can be used the same way, if handled with care. This technique was used in the [Fast Wavenet Generation Algorithm](https://arxiv.org/abs/1611.09482) by Le Paine et al. In the [MoVinet paper](https://arxiv.org/abs/2103.11511), the `state` is referred to as the \"Stream Buffer\".\n",
        "\n",
        "![States passed in causal convolution](https://www.tensorflow.org/images/tutorials/video/causal_conv_states.png)\n",
        "\n",
        "By passing this little bit of state forward, you can avoid recalculating the whole receptive field that shown above. "
      ]
    },
    {
      "cell_type": "markdown",
      "metadata": {
        "id": "1UsxiPs8yA2e"
      },
      "source": [
        "## Download a pre-trained MoViNet model\n",
        "\n",
        "In this section, you will:\n",
        "\n",
        "1. You can create a MoViNet model using the open source code provided in [`official/projects/movinet`](https://github.com/tensorflow/models/tree/master/official/projects/movinet) from TensorFlow models.\n",
        "2. Load the pretrained weights. \n",
        "3. Freeze the convolutional base, or all other layers except the final classifier head, to speed up fine-tuning.\n",
        "\n",
        "To build the model, you can start with the `a0` configuration because it is the fastest to train when benchmarked against other models. Check out the [available MoViNet models on TensorFlow Model Garden](https://github.com/tensorflow/models/blob/master/official/projects/movinet/configs/movinet.py) to find what might work for your use case."
      ]
    },
    {
      "cell_type": "code",
      "execution_count": 29,
      "metadata": {
        "id": "rhSCM6cee05F",
        "colab": {
          "base_uri": "https://localhost:8080/"
        },
        "outputId": "5563857c-5df8-416d-ea20-499393ff99c1"
      },
      "outputs": [
        {
          "output_type": "stream",
          "name": "stdout",
          "text": [
            "movinet_a0_base/\n",
            "movinet_a0_base/checkpoint\n",
            "movinet_a0_base/ckpt-1.data-00000-of-00001\n",
            "movinet_a0_base/ckpt-1.index\n"
          ]
        },
        {
          "output_type": "execute_result",
          "data": {
            "text/plain": [
              "<tensorflow.python.checkpoint.checkpoint.CheckpointLoadStatus at 0x7f455b338a60>"
            ]
          },
          "metadata": {},
          "execution_count": 29
        }
      ],
      "source": [
        "model_id = 'a0'\n",
        "resolution = 224\n",
        "\n",
        "tf.keras.backend.clear_session()\n",
        "\n",
        "backbone = movinet.Movinet(model_id=model_id)\n",
        "backbone.trainable = False\n",
        "\n",
        "# Set num_classes=600 to load the pre-trained weights from the original model\n",
        "model = movinet_model.MovinetClassifier(backbone=backbone, num_classes=600)\n",
        "model.build([None, None, None, None, 3])\n",
        "\n",
        "# Load pre-trained weights\n",
        "!wget https://storage.googleapis.com/tf_model_garden/vision/movinet/movinet_a0_base.tar.gz -O movinet_a0_base.tar.gz -q\n",
        "!tar -xvf movinet_a0_base.tar.gz\n",
        "\n",
        "checkpoint_dir = f'movinet_{model_id}_base'\n",
        "checkpoint_path = tf.train.latest_checkpoint(checkpoint_dir)\n",
        "checkpoint = tf.train.Checkpoint(model=model)\n",
        "status = checkpoint.restore(checkpoint_path)\n",
        "status.assert_existing_objects_matched()"
      ]
    },
    {
      "cell_type": "markdown",
      "metadata": {
        "id": "BW23HVNtCXff"
      },
      "source": [
        "To build a classifier, create a function that takes the backbone and the number of classes in a dataset. The `build_classifier` function will take the backbone and the number of classes in a dataset to build the classifier. In this case, the new classifier will take a `num_classes` outputs (10 classes for this subset of UCF101)."
      ]
    },
    {
      "cell_type": "code",
      "execution_count": 30,
      "metadata": {
        "id": "6cfAelbU5Gi3"
      },
      "outputs": [],
      "source": [
        "def build_classifier(batch_size, num_frames, resolution, backbone, num_classes):\n",
        "  \"\"\"Builds a classifier on top of a backbone model.\"\"\"\n",
        "  model = movinet_model.MovinetClassifier(\n",
        "      backbone=backbone,\n",
        "      num_classes=num_classes)\n",
        "  model.build([batch_size, num_frames, resolution, resolution, 3])\n",
        "\n",
        "  return model"
      ]
    },
    {
      "cell_type": "code",
      "execution_count": 31,
      "metadata": {
        "id": "9HWSk-u7oPUZ"
      },
      "outputs": [],
      "source": [
        "model = build_classifier(batch_size, num_frames, resolution, backbone, 10)"
      ]
    },
    {
      "cell_type": "markdown",
      "metadata": {
        "id": "JhbX7qdTN8lc"
      },
      "source": [
        "For this tutorial, choose the `tf.keras.optimizers.Adam` optimizer and the `tf.keras.losses.SparseCategoricalCrossentropy` loss function. Use the metrics argument to the view the accuracy of the model performance at every step."
      ]
    },
    {
      "cell_type": "code",
      "execution_count": 32,
      "metadata": {
        "id": "dVqBLrn1tBsd"
      },
      "outputs": [],
      "source": [
        "num_epochs = 1\n",
        "\n",
        "loss_obj = tf.keras.losses.SparseCategoricalCrossentropy(from_logits=True)\n",
        "\n",
        "optimizer = tf.keras.optimizers.Adam(learning_rate = 0.001)\n",
        "\n",
        "model.compile(loss=loss_obj, optimizer=optimizer, metrics=['accuracy'])"
      ]
    },
    {
      "cell_type": "markdown",
      "metadata": {
        "id": "VflEr_t6CuQu"
      },
      "source": [
        "Train the model. After two epochs, observe a low loss with high accuracy for both the training and test sets. "
      ]
    },
    {
      "cell_type": "code",
      "execution_count": 33,
      "metadata": {
        "colab": {
          "base_uri": "https://localhost:8080/"
        },
        "id": "9ZeiYzI0tqQG",
        "outputId": "959270de-037f-4f96-8ec9-7aacbaba0f01"
      },
      "outputs": [
        {
          "output_type": "stream",
          "name": "stdout",
          "text": [
            "200/200 [==============================] - 926s 5s/step - loss: 0.2235 - accuracy: 0.9256 - val_loss: 0.1049 - val_accuracy: 0.9625\n"
          ]
        }
      ],
      "source": [
        "results = model.fit(train_ds,\n",
        "                    validation_data=test_ds,\n",
        "                    epochs=num_epochs,\n",
        "                    validation_freq=1,\n",
        "                    verbose=1)"
      ]
    },
    {
      "cell_type": "markdown",
      "metadata": {
        "id": "KkLl2zF8G9W0"
      },
      "source": [
        "## Evaluate the model\n",
        "\n",
        "The model achieved high accuracy on the training dataset. Next, use Keras `Model.evaluate` to evaluate it on the test set."
      ]
    },
    {
      "cell_type": "code",
      "execution_count": null,
      "metadata": {
        "id": "NqgbzOiKuxxT",
        "colab": {
          "base_uri": "https://localhost:8080/"
        },
        "outputId": "b886f186-55b5-49b5-9c29-195a17865922"
      },
      "outputs": [
        {
          "output_type": "stream",
          "name": "stdout",
          "text": [
            "50/50 [==============================] - 55s 1s/step - loss: 0.1638 - accuracy: 0.9400\n"
          ]
        },
        {
          "output_type": "execute_result",
          "data": {
            "text/plain": [
              "{'loss': 0.16378231346607208, 'accuracy': 0.9399999976158142}"
            ]
          },
          "metadata": {},
          "execution_count": 23
        }
      ],
      "source": [
        "model.evaluate(test_ds, return_dict=True)"
      ]
    },
    {
      "cell_type": "code",
      "source": [
        "\n",
        "     \n",
        "model.history"
      ],
      "metadata": {
        "colab": {
          "base_uri": "https://localhost:8080/"
        },
        "id": "7otb63VvsJzM",
        "outputId": "4545a073-1fb1-472a-96d0-4f7473ea808d"
      },
      "execution_count": null,
      "outputs": [
        {
          "output_type": "execute_result",
          "data": {
            "text/plain": [
              "<keras.callbacks.History at 0x7f03c6854580>"
            ]
          },
          "metadata": {},
          "execution_count": 39
        }
      ]
    },
    {
      "cell_type": "code",
      "source": [],
      "metadata": {
        "id": "jPcS54m7sOHU"
      },
      "execution_count": null,
      "outputs": []
    },
    {
      "cell_type": "code",
      "source": [
        "model.save('moivnet_TrLn_vio_vdo_model')"
      ],
      "metadata": {
        "colab": {
          "base_uri": "https://localhost:8080/"
        },
        "id": "iE7UAhHCjhfQ",
        "outputId": "3777e7bd-8a1b-4345-e9d8-185cea3b622c"
      },
      "execution_count": 34,
      "outputs": [
        {
          "output_type": "stream",
          "name": "stderr",
          "text": [
            "WARNING:tensorflow:Skipping full serialization of Keras layer <official.vision.modeling.layers.nn_layers.SpatialAveragePool3D object at 0x7f455a1dda30>, because it is not built.\n",
            "WARNING:tensorflow:Skipping full serialization of Keras layer <official.vision.modeling.layers.nn_layers.SpatialAveragePool3D object at 0x7f455b1fcdf0>, because it is not built.\n",
            "WARNING:tensorflow:Skipping full serialization of Keras layer <official.vision.modeling.layers.nn_layers.SpatialAveragePool3D object at 0x7f455b1138b0>, because it is not built.\n",
            "WARNING:tensorflow:Skipping full serialization of Keras layer <official.vision.modeling.layers.nn_layers.SpatialAveragePool3D object at 0x7f455b0c9b20>, because it is not built.\n",
            "WARNING:tensorflow:Skipping full serialization of Keras layer <official.vision.modeling.layers.nn_layers.SpatialAveragePool3D object at 0x7f455b0345e0>, because it is not built.\n",
            "WARNING:tensorflow:Skipping full serialization of Keras layer <official.vision.modeling.layers.nn_layers.SpatialAveragePool3D object at 0x7f455af62460>, because it is not built.\n",
            "WARNING:tensorflow:Skipping full serialization of Keras layer <official.vision.modeling.layers.nn_layers.SpatialAveragePool3D object at 0x7f455aef9670>, because it is not built.\n",
            "WARNING:tensorflow:Skipping full serialization of Keras layer <official.vision.modeling.layers.nn_layers.SpatialAveragePool3D object at 0x7f455ae005b0>, because it is not built.\n",
            "WARNING:tensorflow:Skipping full serialization of Keras layer <official.vision.modeling.layers.nn_layers.SpatialAveragePool3D object at 0x7f455ad92760>, because it is not built.\n",
            "WARNING:tensorflow:Skipping full serialization of Keras layer <official.vision.modeling.layers.nn_layers.SpatialAveragePool3D object at 0x7f455ad2ad00>, because it is not built.\n",
            "WARNING:tensorflow:Skipping full serialization of Keras layer <official.vision.modeling.layers.nn_layers.SpatialAveragePool3D object at 0x7f455ac444c0>, because it is not built.\n",
            "WARNING:tensorflow:Skipping full serialization of Keras layer <official.vision.modeling.layers.nn_layers.SpatialAveragePool3D object at 0x7f455abdff70>, because it is not built.\n",
            "WARNING:tensorflow:Skipping full serialization of Keras layer <official.vision.modeling.layers.nn_layers.SpatialAveragePool3D object at 0x7f458e04cc10>, because it is not built.\n",
            "WARNING:tensorflow:Skipping full serialization of Keras layer <official.vision.modeling.layers.nn_layers.SpatialAveragePool3D object at 0x7f455ab31430>, because it is not built.\n",
            "WARNING:tensorflow:Skipping full serialization of Keras layer <official.vision.modeling.layers.nn_layers.SpatialAveragePool3D object at 0x7f455aa51970>, because it is not built.\n",
            "WARNING:tensorflow:Skipping full serialization of Keras layer <keras.layers.regularization.dropout.Dropout object at 0x7f455b33c700>, because it is not built.\n",
            "WARNING:tensorflow:Skipping full serialization of Keras layer <official.vision.modeling.layers.nn_layers.TemporalSoftmaxPool object at 0x7f4553edb730>, because it is not built.\n",
            "WARNING:absl:Found untraced functions such as init_states, head_layer_call_fn, head_layer_call_and_return_conditional_losses, classifier_layer_call_fn, classifier_layer_call_and_return_conditional_losses while saving (showing 5 of 691). These functions will not be directly callable after loading.\n"
          ]
        }
      ]
    },
    {
      "cell_type": "code",
      "source": [
        "!zip -r /content/file.zip /content/moivnet_trained_model_on_ucf101subset "
      ],
      "metadata": {
        "colab": {
          "base_uri": "https://localhost:8080/"
        },
        "id": "jMt3ZnQ0koas",
        "outputId": "2e9c94e4-3f8d-4eb9-d565-4fe815ef92c8"
      },
      "execution_count": null,
      "outputs": [
        {
          "output_type": "stream",
          "name": "stdout",
          "text": [
            "  adding: content/moivnet_trained_model_on_ucf101subset/ (stored 0%)\n",
            "  adding: content/moivnet_trained_model_on_ucf101subset/variables/ (stored 0%)\n",
            "  adding: content/moivnet_trained_model_on_ucf101subset/variables/variables.index (deflated 75%)\n",
            "  adding: content/moivnet_trained_model_on_ucf101subset/variables/variables.data-00000-of-00001 (deflated 9%)\n",
            "  adding: content/moivnet_trained_model_on_ucf101subset/assets/ (stored 0%)\n",
            "  adding: content/moivnet_trained_model_on_ucf101subset/saved_model.pb (deflated 92%)\n",
            "  adding: content/moivnet_trained_model_on_ucf101subset/keras_metadata.pb (deflated 96%)\n",
            "  adding: content/moivnet_trained_model_on_ucf101subset/fingerprint.pb (stored 0%)\n"
          ]
        }
      ]
    },
    {
      "cell_type": "code",
      "source": [
        "from google.colab import files\n",
        "\n",
        "files.download('/content/file.zip')"
      ],
      "metadata": {
        "colab": {
          "base_uri": "https://localhost:8080/",
          "height": 17
        },
        "id": "9WUVEiIzk53v",
        "outputId": "eb60f232-56b2-4d31-ada8-282e761971e4"
      },
      "execution_count": null,
      "outputs": [
        {
          "output_type": "display_data",
          "data": {
            "text/plain": [
              "<IPython.core.display.Javascript object>"
            ],
            "application/javascript": [
              "\n",
              "    async function download(id, filename, size) {\n",
              "      if (!google.colab.kernel.accessAllowed) {\n",
              "        return;\n",
              "      }\n",
              "      const div = document.createElement('div');\n",
              "      const label = document.createElement('label');\n",
              "      label.textContent = `Downloading \"${filename}\": `;\n",
              "      div.appendChild(label);\n",
              "      const progress = document.createElement('progress');\n",
              "      progress.max = size;\n",
              "      div.appendChild(progress);\n",
              "      document.body.appendChild(div);\n",
              "\n",
              "      const buffers = [];\n",
              "      let downloaded = 0;\n",
              "\n",
              "      const channel = await google.colab.kernel.comms.open(id);\n",
              "      // Send a message to notify the kernel that we're ready.\n",
              "      channel.send({})\n",
              "\n",
              "      for await (const message of channel.messages) {\n",
              "        // Send a message to notify the kernel that we're ready.\n",
              "        channel.send({})\n",
              "        if (message.buffers) {\n",
              "          for (const buffer of message.buffers) {\n",
              "            buffers.push(buffer);\n",
              "            downloaded += buffer.byteLength;\n",
              "            progress.value = downloaded;\n",
              "          }\n",
              "        }\n",
              "      }\n",
              "      const blob = new Blob(buffers, {type: 'application/binary'});\n",
              "      const a = document.createElement('a');\n",
              "      a.href = window.URL.createObjectURL(blob);\n",
              "      a.download = filename;\n",
              "      div.appendChild(a);\n",
              "      a.click();\n",
              "      div.remove();\n",
              "    }\n",
              "  "
            ]
          },
          "metadata": {}
        },
        {
          "output_type": "display_data",
          "data": {
            "text/plain": [
              "<IPython.core.display.Javascript object>"
            ],
            "application/javascript": [
              "download(\"download_8f64d9b8-4df5-474f-af56-44a01a2f5022\", \"file.zip\", 15367325)"
            ]
          },
          "metadata": {}
        }
      ]
    },
    {
      "cell_type": "code",
      "source": [
        "model.save('moivnet_tr_ln_model_Viovideo.h5')"
      ],
      "metadata": {
        "id": "f7AgT0WWjxyc"
      },
      "execution_count": 35,
      "outputs": []
    },
    {
      "cell_type": "code",
      "source": [
        "model.save_weights(\"ckpt/ckpoint\")\n"
      ],
      "metadata": {
        "id": "tIfxomJ1Urv-"
      },
      "execution_count": 36,
      "outputs": []
    },
    {
      "cell_type": "code",
      "source": [
        "model.save_weights(\"saved_model_trained_weights.h5\")\n"
      ],
      "metadata": {
        "id": "qiRVR1xhVKqX"
      },
      "execution_count": 37,
      "outputs": []
    },
    {
      "cell_type": "markdown",
      "metadata": {
        "id": "OkFst2gsHBwD"
      },
      "source": [
        "To visualize model performance further, use a [confusion matrix](https://www.tensorflow.org/api_docs/python/tf/math/confusion_matrix). The confusion matrix allows you to assess the performance of the classification model beyond accuracy. To build the confusion matrix for this multi-class classification problem, get the actual values in the test set and the predicted values."
      ]
    },
    {
      "cell_type": "code",
      "execution_count": 38,
      "metadata": {
        "id": "hssSdW9XHF_j"
      },
      "outputs": [],
      "source": [
        "def get_actual_predicted_labels(dataset):\n",
        "  \"\"\"\n",
        "    Create a list of actual ground truth values and the predictions from the model.\n",
        "\n",
        "    Args:\n",
        "      dataset: An iterable data structure, such as a TensorFlow Dataset, with features and labels.\n",
        "\n",
        "    Return:\n",
        "      Ground truth and predicted values for a particular dataset.\n",
        "  \"\"\"\n",
        "  actual = [labels for _, labels in dataset.unbatch()]\n",
        "  predicted = model.predict(dataset)\n",
        "\n",
        "  actual = tf.stack(actual, axis=0)\n",
        "  predicted = tf.concat(predicted, axis=0)\n",
        "  predicted = tf.argmax(predicted, axis=1)\n",
        "\n",
        "  return actual, predicted"
      ]
    },
    {
      "cell_type": "code",
      "execution_count": 39,
      "metadata": {
        "id": "2TmTue6THGWO"
      },
      "outputs": [],
      "source": [
        "def plot_confusion_matrix(actual, predicted, labels, ds_type):\n",
        "  cm = tf.math.confusion_matrix(actual, predicted)\n",
        "  ax = sns.heatmap(cm, annot=True, fmt='g')\n",
        "  sns.set(rc={'figure.figsize':(12, 12)})\n",
        "  sns.set(font_scale=1.4)\n",
        "  ax.set_title('Confusion matrix of action recognition for ' + ds_type)\n",
        "  ax.set_xlabel('Predicted Action')\n",
        "  ax.set_ylabel('Actual Action')\n",
        "  plt.xticks(rotation=90)\n",
        "  plt.yticks(rotation=0)\n",
        "  ax.xaxis.set_ticklabels(labels)\n",
        "  ax.yaxis.set_ticklabels(labels)"
      ]
    },
    {
      "cell_type": "code",
      "execution_count": 40,
      "metadata": {
        "id": "4RK1A1C1HH6V"
      },
      "outputs": [],
      "source": [
        "fg = FrameGenerator(subset_paths['train'], num_frames, training = True)\n",
        "label_names = list(fg.class_ids_for_name.keys())"
      ]
    },
    {
      "cell_type": "code",
      "execution_count": 41,
      "metadata": {
        "id": "r4AFi2e5HKEO",
        "colab": {
          "base_uri": "https://localhost:8080/",
          "height": 370
        },
        "outputId": "68f8381e-44d6-40d2-e49c-93c90a0a2054"
      },
      "outputs": [
        {
          "output_type": "stream",
          "name": "stdout",
          "text": [
            "50/50 [==============================] - 73s 1s/step\n"
          ]
        },
        {
          "output_type": "display_data",
          "data": {
            "text/plain": [
              "<Figure size 432x288 with 2 Axes>"
            ],
            "image/png": "[encoded data removed]"
          },
          "metadata": {
            "needs_background": "light"
          }
        }
      ],
      "source": [
        "actual, predicted = get_actual_predicted_labels(test_ds)\n",
        "plot_confusion_matrix(actual, predicted, label_names, 'test')"
      ]
    },
    {
      "cell_type": "markdown",
      "source": [
        "load pb keras model from google drive folder that contain pb and other files\n",
        "![image.png](data:image/png;base64,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) "
      ],
      "metadata": {
        "id": "yHuppLWnx20s"
      }
    },
    {
      "cell_type": "code",
      "source": [
        "from tensorflow import keras\n",
        "mdl = keras.models.load_model('/content/drive/MyDrive/movinet/moivnet_TrLn_vio_vdo_model') #path of folder containing pb files and other files "
      ],
      "metadata": {
        "id": "V_pDrT6dvaiy"
      },
      "execution_count": 44,
      "outputs": []
    },
    {
      "cell_type": "code",
      "source": [
        "def get_actual_predicted_labels(dataset):\n",
        "  \"\"\"\n",
        "    Create a list of actual ground truth values and the predictions from the model.\n",
        "\n",
        "    Args:\n",
        "      dataset: An iterable data structure, such as a TensorFlow Dataset, with features and labels.\n",
        "\n",
        "    Return:\n",
        "      Ground truth and predicted values for a particular dataset.\n",
        "  \"\"\"\n",
        "  actual = [labels for _, labels in dataset.unbatch()]\n",
        "  predicted = mdl.predict(dataset)\n",
        "\n",
        "  actual = tf.stack(actual, axis=0)\n",
        "  predicted = tf.concat(predicted, axis=0)\n",
        "  predicted = tf.argmax(predicted, axis=1)\n",
        "\n",
        "  return actual, predicted"
      ],
      "metadata": {
        "id": "dNfpp_nlwoKu"
      },
      "execution_count": 45,
      "outputs": []
    },
    {
      "cell_type": "code",
      "source": [
        "def plot_confusion_matrix(actual, predicted, labels, ds_type):\n",
        "  cm = tf.math.confusion_matrix(actual, predicted)\n",
        "  ax = sns.heatmap(cm, annot=True, fmt='g')\n",
        "  sns.set(rc={'figure.figsize':(12, 12)})\n",
        "  sns.set(font_scale=1.4)\n",
        "  ax.set_title('Confusion matrix of action recognition for ' + ds_type)\n",
        "  ax.set_xlabel('Predicted Action')\n",
        "  ax.set_ylabel('Actual Action')\n",
        "  plt.xticks(rotation=90)\n",
        "  plt.yticks(rotation=0)\n",
        "  ax.xaxis.set_ticklabels(labels)\n",
        "  ax.yaxis.set_ticklabels(labels)"
      ],
      "metadata": {
        "id": "aIuTTs5Jwe8u"
      },
      "execution_count": 46,
      "outputs": []
    },
    {
      "cell_type": "code",
      "source": [
        "fg = FrameGenerator(subset_paths['train'], num_frames, training = True)\n",
        "label_names = list(fg.class_ids_for_name.keys())"
      ],
      "metadata": {
        "id": "CL2J-PGmw-vd"
      },
      "execution_count": 47,
      "outputs": []
    },
    {
      "cell_type": "code",
      "source": [
        "actual, predicted = get_actual_predicted_labels(test_ds)\n",
        "plot_confusion_matrix(actual, predicted, label_names, 'test')"
      ],
      "metadata": {
        "colab": {
          "base_uri": "https://localhost:8080/",
          "height": 849
        },
        "id": "upoAOfTHxCNg",
        "outputId": "91f09dda-6139-46b3-8b1e-42ced8a73b90"
      },
      "execution_count": 48,
      "outputs": [
        {
          "output_type": "stream",
          "name": "stdout",
          "text": [
            "50/50 [==============================] - 77s 1s/step\n"
          ]
        },
        {
          "output_type": "display_data",
          "data": {
            "text/plain": [
              "<Figure size 864x864 with 2 Axes>"
            ],
            "image/png": "[encoded data removed]"
          },
          "metadata": {}
        }
      ]
    },
    {
      "cell_type": "markdown",
      "source": [
        "https://www.tensorflow.org/lite/models/convert/convert_models"
      ],
      "metadata": {
        "id": "XSb7sx07v-4b"
      }
    },
    {
      "cell_type": "markdown",
      "metadata": {
        "id": "ddQG9sYxa1Ib"
      },
      "source": [
        "## Next steps\n",
        "\n",
        "Now that you have some familiarity with the MoViNet model and how to leverage various TensorFlow APIs (for example, for transfer learning), try using the code in this tutorial with your own dataset. The data does not have to be limited to video data. Volumetric data, such as MRI scans, can also be used with 3D CNNs. The NUSDAT and IMH datasets mentioned in [Brain MRI-based 3D Convolutional Neural Networks for Classification of Schizophrenia and Controls](https://arxiv.org/pdf/2003.08818.pdf) could be two such sources for MRI data.\n",
        "\n",
        "In particular, using the `FrameGenerator` class used in this tutorial and the other video data and classification tutorials will help you load data into your models.\n",
        "\n",
        "To learn more about working with video data in TensorFlow, check out the following tutorials:\n",
        "\n",
        "* [Load video data](https://www.tensorflow.org/tutorials/load_data/video)\n",
        "* [Build a 3D CNN model for video classification](https://www.tensorflow.org/tutorials/video/video_classification)\n",
        "* [MoViNet for streaming action recognition](https://www.tensorflow.org/hub/tutorials/movinet)"
      ]
    }
  ],
  "metadata": {
    "accelerator": "GPU",
    "colab": {
      "provenance": [],
      "include_colab_link": true
    },
    "kernelspec": {
      "display_name": "Python 3",
      "name": "python3"
    }
  },
  "nbformat": 4,
  "nbformat_minor": 0
}